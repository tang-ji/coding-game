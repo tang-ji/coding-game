{
 "cells": [
  {
   "cell_type": "code",
   "execution_count": 1,
   "metadata": {},
   "outputs": [],
   "source": [
    "import sys\n",
    "import math\n",
    "import numpy as np"
   ]
  },
  {
   "cell_type": "code",
   "execution_count": 156,
   "metadata": {},
   "outputs": [],
   "source": [
    "class Pac(object):\n",
    "    def __init__(self, x, y, pac_id, type_id, speed_turns_left, ability_cooldown):\n",
    "        self.x = x\n",
    "        self.y = y\n",
    "        self.pac_id = pac_id\n",
    "        self.type_id = type_id\n",
    "        self.speed_turns_left = speed_turns_left\n",
    "        self.ability_cooldown = ability_cooldown\n",
    "        self.dest = None\n",
    "    def __eq__(self, another):\n",
    "        return self.pac_id == another.pac_id\n",
    "    def __hash__(self):\n",
    "        return self.pac_id\n",
    "    def update(self, x, y, type_id, speed_turns_left, ability_cooldown):\n",
    "        self.type_id = type_id\n",
    "        self.speed_turns_left = speed_turns_left\n",
    "        self.ability_cooldown = ability_cooldown\n",
    "        self.x = x\n",
    "        self.y = y\n",
    "    def action(self):\n",
    "        return \"\"\n",
    "    \n",
    "class Grid(object):\n",
    "    def __init__(self, map_grid):\n",
    "        # -2 wall, -1 unknown, >=0 pallet value\n",
    "        self.width = len(map_grid)\n",
    "        self.height = len(map_grid[0])\n",
    "        self.map_grid = np.zeros((self.width, self.height))\n",
    "        for i in range(self.width):\n",
    "            for j in range(self.height):\n",
    "                if map_grid[i][j] == \"#\":\n",
    "                    self.map_grid[i][j] = -2\n",
    "                else:\n",
    "                    self.map_grid[i][j] = -1\n",
    "        self.my_pacs = {}\n",
    "        self.oppenent_pacs = {}\n",
    "    def update_pacs(self, my_pacs, pacs):\n",
    "        for x, y, pac_id, type_id, speed_turns_left, ability_cooldown in my_pacs:\n",
    "            if pac_id not in pacs:\n",
    "                pacs[pac_id] = Pac(x, y, pac_id, type_id, speed_turns_left, ability_cooldown)\n",
    "            else:\n",
    "                pacs[pac_id].update(x, y, type_id, speed_turns_left, ability_cooldown)\n",
    "    def update_pallets(self, pallets_list):\n",
    "        my_vision = self.pacs_vision(self.my_pacs)\n",
    "        self.map_grid[self.map_grid > 0] = -1\n",
    "        for i in my_vision:\n",
    "            self.map_grid[i] = 0\n",
    "        for x, y, value in pallets_list:\n",
    "            self.map_grid[x][y] = value    \n",
    "    def pacs_vision(self, pacs):\n",
    "        visible_points = set()\n",
    "        for pac in pacs.values():\n",
    "            visible_points |= self.get_visible_points(pac)\n",
    "        return visible_points\n",
    "    def get_visible_points(self, pac):\n",
    "        visible_points = set()\n",
    "        directions = np.array([[-1,0], [1,0], [0,1], [0,-1]])\n",
    "        for direction in directions:\n",
    "            pos = (pac.x, pac.y)\n",
    "            l = max(self.height, self.width)\n",
    "            while self.map_grid[pos] != -2 and l > 0:\n",
    "                visible_points.add(pos)\n",
    "                pos = tuple((pos + direction) % np.array([self.width, self.height]))\n",
    "                l -= 1\n",
    "        return visible_points\n",
    "    def __repr__(self):\n",
    "        return self.map_grid.__repr__()"
   ]
  },
  {
   "cell_type": "code",
   "execution_count": 157,
   "metadata": {},
   "outputs": [],
   "source": [
    "map_grid = [[\" \", \" \", \"#\", \" \", \" \"],\n",
    "           [\"#\", \"#\", \"#\", \" \", \"#\"],\n",
    "           [\" \", \" \", \" \", \" \", \" \"],\n",
    "           [\"#\", \"#\", \"#\", \"#\", \"#\"]]"
   ]
  },
  {
   "cell_type": "code",
   "execution_count": 158,
   "metadata": {},
   "outputs": [],
   "source": [
    "grid = Grid(map_grid)\n",
    "grid.update_pacs([[0,0,1,None,None,None]], grid.my_pacs)"
   ]
  },
  {
   "cell_type": "code",
   "execution_count": 159,
   "metadata": {},
   "outputs": [
    {
     "data": {
      "text/plain": [
       "array([[-1., -1., -2., -1., -1.],\n",
       "       [-2., -2., -2., -1., -2.],\n",
       "       [-1., -1., -1., -1., -1.],\n",
       "       [-2., -2., -2., -2., -2.]])"
      ]
     },
     "execution_count": 159,
     "metadata": {},
     "output_type": "execute_result"
    }
   ],
   "source": [
    "grid.map_grid"
   ]
  },
  {
   "cell_type": "code",
   "execution_count": 160,
   "metadata": {},
   "outputs": [],
   "source": [
    "pallets_list = [[0,1,1], [0,3,1], [0,4,10]]"
   ]
  },
  {
   "cell_type": "code",
   "execution_count": 161,
   "metadata": {},
   "outputs": [],
   "source": [
    "grid.update_pallets(pallets_list)"
   ]
  },
  {
   "cell_type": "code",
   "execution_count": 162,
   "metadata": {},
   "outputs": [
    {
     "data": {
      "text/plain": [
       "array([[ 0.,  1., -2.,  1., 10.],\n",
       "       [-2., -2., -2., -1., -2.],\n",
       "       [-1., -1., -1., -1., -1.],\n",
       "       [-2., -2., -2., -2., -2.]])"
      ]
     },
     "execution_count": 162,
     "metadata": {},
     "output_type": "execute_result"
    }
   ],
   "source": [
    "grid.map_grid"
   ]
  },
  {
   "cell_type": "code",
   "execution_count": null,
   "metadata": {},
   "outputs": [],
   "source": []
  }
 ],
 "metadata": {
  "kernelspec": {
   "display_name": "Python 3",
   "language": "python",
   "name": "python3"
  },
  "language_info": {
   "codemirror_mode": {
    "name": "ipython",
    "version": 3
   },
   "file_extension": ".py",
   "mimetype": "text/x-python",
   "name": "python",
   "nbconvert_exporter": "python",
   "pygments_lexer": "ipython3",
   "version": "3.7.7"
  }
 },
 "nbformat": 4,
 "nbformat_minor": 4
}
