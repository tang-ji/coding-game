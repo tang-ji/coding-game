{
 "cells": [
  {
   "cell_type": "code",
   "execution_count": 1,
   "metadata": {},
   "outputs": [],
   "source": [
    "import sys\n",
    "import math\n",
    "import numpy as np"
   ]
  },
  {
   "cell_type": "code",
   "execution_count": 76,
   "metadata": {},
   "outputs": [],
   "source": [
    "class point(object):\n",
    "    def __init__(self, x, y):\n",
    "        self.x = x\n",
    "        self.y = y\n",
    "        self.update()\n",
    "    def __eq__(self, another):\n",
    "        return self.x == another.x and self.y == another.y\n",
    "    def __hash__(self):\n",
    "        return hash(\"{}-{}\".format(self.x, self.y))\n",
    "    def __repr__(self):\n",
    "        return \"{} {}\".format(self.x, self.y)\n",
    "    def update(self):\n",
    "        self.value = pallet_grid[self.x][self.y]\n",
    "    \n",
    "class Pac(object):\n",
    "    def __init__(self, x, y, pac_id):\n",
    "        self.x = x\n",
    "        self.y = y\n",
    "        self.pac_id = pac_id\n",
    "        self.dest = None\n",
    "    def __eq__(self, another):\n",
    "        return self.pac_id == another.pac_id\n",
    "    def __hash__(self):\n",
    "        return self.pac_id\n",
    "    def find_next(self):\n",
    "        self.dest = bfs_search(point(self.x, self.y), map_grid, pallet_grid)\n",
    "    def update(self, x, y):\n",
    "        same = False\n",
    "        if abs(self.x - x) <= 1 and abs(self.y - y) <= 1:\n",
    "            same = True\n",
    "        self.x = x\n",
    "        self.y = y\n",
    "        if not self.dest or self.dest.value == 0 or same:\n",
    "            self.find_next()\n",
    "    def action(self):\n",
    "        return \"MOVE {} {}\".format(self.pac_id, self.dest)\n",
    "    def __repr__(self):\n",
    "        return self.action()\n",
    "\n",
    "class Pacs(object):\n",
    "    def __init__(self, my_pacs):\n",
    "        self.pacs = {}\n",
    "        for x, y, pac_id in my_pacs:\n",
    "            p = Pac(x, y, pac_id)\n",
    "            p.find_next()\n",
    "            self.pacs[pac_id] = p\n",
    "    def update(self, my_pacs):\n",
    "        for x, y, pac_id in my_pacs:\n",
    "            self.pacs[pac_id].update(x, y)\n",
    "    def action(self):\n",
    "        return \"|\".join([p.action() for p in self.pacs.values()])\n",
    "        \n",
    "\n",
    "def surroundings(p, map_grid, pallet_grid):\n",
    "    search_list = []\n",
    "    for x, y in [[p.x+1, p.y], [p.x, p.y+1], [p.x-1, p.y], [p.x, p.y-1]]:\n",
    "        x_new = int(x % width)\n",
    "        y_new = int(y % height)\n",
    "        if map_grid[x_new][y_new] == \" \":\n",
    "            search_list.append(point(x_new, y_new))\n",
    "    return search_list \n",
    "\n",
    "def bfs_search(p, map_grid, pallet_grid):\n",
    "    d = [p]\n",
    "    marked = set()\n",
    "    while len(d) > 0:\n",
    "        d.sort(key=lambda x:-x.value)\n",
    "        p_current = d.pop(0)\n",
    "        if p_current.value > 0:\n",
    "            return p_current\n",
    "        d += [p for p in surroundings(p_current, map_grid, pallet_grid) if p not in marked]\n",
    "        marked.add(p_current)"
   ]
  },
  {
   "cell_type": "code",
   "execution_count": 77,
   "metadata": {},
   "outputs": [],
   "source": [
    "map_grid = [[\" \", \" \", \"#\", \" \", \" \"],\n",
    "           [\"#\", \"#\", \"#\", \" \", \"#\"],\n",
    "           [\" \", \" \", \" \", \" \", \" \"],\n",
    "           [\"#\", \"#\", \"#\", \"#\", \"#\"]]\n",
    "\n",
    "pallet_grid = [[0, 0, 0, 0, 0],\n",
    "               [0, 0, 0, 1, 0],\n",
    "               [0, 0, 1, 1, 0],\n",
    "               [0, 0, 0, 0, 0]]"
   ]
  },
  {
   "cell_type": "code",
   "execution_count": 85,
   "metadata": {},
   "outputs": [
    {
     "data": {
      "text/plain": [
       "MOVE 0 1 3"
      ]
     },
     "execution_count": 85,
     "metadata": {},
     "output_type": "execute_result"
    }
   ],
   "source": [
    "pac_0 = pac(0, 0, 0)\n",
    "pac_0.update(0, 1)\n",
    "pac_0"
   ]
  },
  {
   "cell_type": "code",
   "execution_count": null,
   "metadata": {},
   "outputs": [],
   "source": [
    "width, height = [int(i) for i in input().split()]\n",
    "map_grid = []\n",
    "for i in range(height):\n",
    "    row = input()  # one line of the grid: space \" \" is floor, pound \"#\" is wall\n",
    "    map_grid.append([x for x in row])\n",
    "map_grid = np.array(map_grid).transpose()"
   ]
  },
  {
   "cell_type": "markdown",
   "metadata": {},
   "source": [
    "## Game Loop"
   ]
  },
  {
   "cell_type": "code",
   "execution_count": null,
   "metadata": {},
   "outputs": [],
   "source": [
    "while True:\n",
    "    my_score, opponent_score = [int(i) for i in input().split()]\n",
    "    visible_pac_count = int(input())  # all your pacs and enemy pacs in sight\n",
    "    my_pacs = []\n",
    "    oppenent_pacs = []\n",
    "    for i in range(visible_pac_count):\n",
    "        inputs = input().split()\n",
    "        pac_id = int(inputs[0])  # pac number (unique within a team)\n",
    "        mine = inputs[1] != \"0\"  # true if this pac is yours\n",
    "        x = int(inputs[2])  # position in the grid\n",
    "        y = int(inputs[3])  # position in the grid\n",
    "        type_id = inputs[4]  # unused in wood leagues\n",
    "        speed_turns_left = int(inputs[5])  # unused in wood leagues\n",
    "        ability_cooldown = int(inputs[6])  # unused in wood leagues\n",
    "        if mine:\n",
    "            my_pacs.append([x, y, pac_id])\n",
    "        else:\n",
    "            oppenent_pacs.append([x, y, pac_id])\n",
    "    visible_pellet_count = int(input())  # all pellets in sight\n",
    "\n",
    "    pallet_grid = np.zeros((width, height))\n",
    "    for i in range(visible_pellet_count):\n",
    "        # value: amount of points this pellet is worth\n",
    "        x, y, value = [int(j) for j in input().split()]\n",
    "        pallet_grid[x][y] = value\n",
    "\n",
    "    # Write an action using print\n",
    "    # To debug: print(\"Debug messages...\", file=sys.stderr, flush=True)\n",
    "    commands = []\n",
    "    for pac in my_pacs:\n",
    "        x, y, type_id = pac\n",
    "        commands.append(\"MOVE {} {}\".format(type_id, bfs_search(point(x, y), map_grid, pallet_grid)))\n",
    "\n",
    "    print(\"|\".join(commands))"
   ]
  }
 ],
 "metadata": {
  "kernelspec": {
   "display_name": "Python 3",
   "language": "python",
   "name": "python3"
  },
  "language_info": {
   "codemirror_mode": {
    "name": "ipython",
    "version": 3
   },
   "file_extension": ".py",
   "mimetype": "text/x-python",
   "name": "python",
   "nbconvert_exporter": "python",
   "pygments_lexer": "ipython3",
   "version": "3.7.7"
  }
 },
 "nbformat": 4,
 "nbformat_minor": 4
}
