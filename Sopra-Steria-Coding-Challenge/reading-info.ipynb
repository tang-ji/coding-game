{
 "cells": [
  {
   "cell_type": "code",
   "execution_count": null,
   "metadata": {},
   "outputs": [],
   "source": [
    "# Write an action using print\n",
    "# To debug: print(\"Debug messages...\", file=sys.stderr, flush=True)\n",
    "\n",
    "\n",
    "# First the HUNTER : MOVE x y | BUST id\n",
    "# Second the GHOST CATCHER: MOVE x y | TRAP id | RELEASE\n",
    "# Third the SUPPORT: MOVE x y | STUN id | RADAR"
   ]
  },
  {
   "cell_type": "code",
   "execution_count": null,
   "metadata": {},
   "outputs": [],
   "source": [
    "import sys\n",
    "import math\n",
    "import numpy as np\n",
    "\n",
    "class Grid:\n",
    "    def __init__(self, ghost_count, my_team_id):\n",
    "        self.ghost_count = ghost_count\n",
    "        self.my_team_id = my_team_id\n",
    "        # format: x, y, state, value, last_seen_round\n",
    "        self.ghosts = np.zeros((ghost_count, 5), dtype=int)\n",
    "        self.my_busters = np.zeros((3, 5), dtype=int)\n",
    "        self.op_busters = np.zeros((3, 5), dtype=int)\n",
    "        \n",
    "    def update_line(self):\n",
    "        entity_id, x, y, entity_type, entity_role, state, value = [int(j) for j in input().split()]\n",
    "        if entity_type == self.my_team_id:\n",
    "            self.my_busters[entity_id] = np.array([x, y, state, value, 0], dtype=int)\n",
    "        elif entity_type == -1:\n",
    "            self.ghosts[entity_id] = np.array([x, y, state, value, 0], dtype=int)\n",
    "        else:\n",
    "            self.op_busters[entity_id-3] = np.array([x, y, state, value, 0], dtype=int)\n",
    "            \n",
    "    def update(self):\n",
    "        self.my_busters[:, -1] += 1\n",
    "        self.ghosts[:, -1] += 1\n",
    "        self.op_busters[:, -1] += 1\n",
    "        \n",
    "        entities = int(input())  # the number of busters and ghosts visible to you\n",
    "        for i in range(entities):\n",
    "            self.update_line()\n",
    "        print(self.ghosts, file=sys.stderr, flush=True)\n",
    "        print(self.my_busters, file=sys.stderr, flush=True)\n",
    "        print(self.op_busters, file=sys.stderr, flush=True)\n",
    "\n",
    "busters_per_player = int(input())  # the amount of busters you control\n",
    "ghost_count = int(input())  # the amount of ghosts on the map\n",
    "my_team_id = int(input())  # if this is 0, your base is on the top left of the map, if it is one, on the bottom right\n",
    "grid = Grid(ghost_count, my_team_id)\n",
    "\n",
    "while True:\n",
    "    grid.update()\n",
    "\n",
    "    print(\"MOVE 8000 4500\")\n",
    "    print(\"MOVE 8000 4500\")\n",
    "    print(\"MOVE 8000 4500\")\n"
   ]
  }
 ],
 "metadata": {
  "kernelspec": {
   "display_name": "Python 3",
   "language": "python",
   "name": "python3"
  },
  "language_info": {
   "codemirror_mode": {
    "name": "ipython",
    "version": 3
   },
   "file_extension": ".py",
   "mimetype": "text/x-python",
   "name": "python",
   "nbconvert_exporter": "python",
   "pygments_lexer": "ipython3",
   "version": "3.7.7"
  }
 },
 "nbformat": 4,
 "nbformat_minor": 4
}
