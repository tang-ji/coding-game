{
 "cells": [
  {
   "cell_type": "code",
   "execution_count": null,
   "metadata": {},
   "outputs": [],
   "source": [
    "import sys\n",
    "import math\n",
    "\n",
    "# Send your busters out into the fog to trap ghosts and bring them home!\n",
    "\n",
    "busters_per_player = int(input())  # the amount of busters you control\n",
    "ghost_count = int(input())  # the amount of ghosts on the map\n",
    "my_team_id = int(input())  # if this is 0, your base is on the top left of the map, if it is one, on the bottom right\n",
    "\n",
    "# game loop\n",
    "while True:\n",
    "    entities = int(input())  # the number of busters and ghosts visible to you\n",
    "    for i in range(entities):\n",
    "        # entity_id: buster id or ghost id\n",
    "        # y: position of this buster / ghost\n",
    "        # entity_type: the team id if it is a buster, -1 if it is a ghost.\n",
    "        # entity_role: -1 for ghosts, 0 for the HUNTER, 1 for the GHOST CATCHER and 2 for the SUPPORT\n",
    "        # state: For busters: 0=idle, 1=carrying a ghost. For ghosts: remaining stamina points.\n",
    "        # value: For busters: Ghost id being carried/busted or number of turns left when stunned. For ghosts: number of busters attempting to trap this ghost.\n",
    "        entity_id, x, y, entity_type, entity_role, state, value = [int(j) for j in input().split()]\n",
    "\n",
    "    # Write an action using print\n",
    "    # To debug: print(\"Debug messages...\", file=sys.stderr, flush=True)\n",
    "\n",
    "\n",
    "    # First the HUNTER : MOVE x y | BUST id\n",
    "    # Second the GHOST CATCHER: MOVE x y | TRAP id | RELEASE\n",
    "    # Third the SUPPORT: MOVE x y | STUN id | RADAR\n",
    "    print(\"MOVE 8000 4500\")\n",
    "    print(\"MOVE 8000 4500\")\n",
    "    print(\"MOVE 8000 4500\")\n"
   ]
  }
 ],
 "metadata": {
  "kernelspec": {
   "display_name": "Python 3",
   "language": "python",
   "name": "python3"
  },
  "language_info": {
   "codemirror_mode": {
    "name": "ipython",
    "version": 3
   },
   "file_extension": ".py",
   "mimetype": "text/x-python",
   "name": "python",
   "nbconvert_exporter": "python",
   "pygments_lexer": "ipython3",
   "version": "3.7.7"
  }
 },
 "nbformat": 4,
 "nbformat_minor": 4
}
