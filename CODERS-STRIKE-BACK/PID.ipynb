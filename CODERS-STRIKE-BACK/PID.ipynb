{
 "cells": [
  {
   "cell_type": "code",
   "execution_count": null,
   "metadata": {},
   "outputs": [],
   "source": [
    "import sys\n",
    "import math\n",
    "import numpy as np\n",
    "\n",
    "class PID():\n",
    "    def __init__(self, Kp, Ki, Kd, move_sum_rate=0.9):\n",
    "        self.time = 0\n",
    "        self.move_sum = None\n",
    "        self.xb = None\n",
    "        self.Kp = Kp\n",
    "        self.Ki = Ki\n",
    "        self.Kd = Kd\n",
    "        self.move_sum_rate = move_sum_rate\n",
    "        \n",
    "    def update(self, x):\n",
    "        if self.time == 0:\n",
    "            self.xb = x\n",
    "            self.move_sum = x\n",
    "        self.time += 1\n",
    "        self.move_sum =  self.move_sum_rate * self.move_sum + (1-self.move_sum_rate) * x\n",
    "        ans = self.Kp * x + self.Ki * self.move_sum + self.Kd * (x - self.xb)\n",
    "        self.xb = x\n",
    "        return ans\n",
    "\n",
    "def output(movex, movey, power, dis):\n",
    "    if power<10: power=10\n",
    "    if power>=80: power='BOOST'\n",
    "    if abs(angle)<=60 and dis > 2000: power='BOOST'\n",
    "\n",
    "    print(str(movex) + \" \" + str(movey) + ' ' + str(power))\n",
    "\n",
    "anglePID = PID(1.0, 0.1, 0)\n",
    "xPID = PID(0.7, 0.3, 0.5)\n",
    "yPID = PID(0.7, 0.3, 0.5)\n",
    "\n",
    "while True:\n",
    "    x, y, next_checkpoint_x, next_checkpoint_y, next_checkpoint_dist, next_checkpoint_angle = [int(i) for i in input().split()]\n",
    "    opponent_x, opponent_y = [int(i) for i in input().split()]\n",
    "\n",
    "    rotate_k = 5\n",
    "    angle = anglePID.update(next_checkpoint_angle)\n",
    "    power = int(100 * (1 - rotate_k*abs(angle/180) ))\n",
    "    \n",
    "    movex = int(xPID.update(next_checkpoint_x))\n",
    "    movey = int(yPID.update(next_checkpoint_y))\n",
    "    \n",
    "    output(movex, movey, power, next_checkpoint_dist)"
   ]
  },
  {
   "cell_type": "code",
   "execution_count": null,
   "metadata": {},
   "outputs": [],
   "source": [
    "laps = int(input())\n",
    "checkpoint_count = int(input())\n",
    "for i in range(checkpoint_count):\n",
    "    checkpoint_x, checkpoint_y = [int(j) for j in input().split()]\n",
    "\n",
    "while True:\n",
    "    for i in range(2):\n",
    "        x, y, vx, vy, angle, next_check_point_id = [int(j) for j in input().split()]\n",
    "    for i in range(2):\n",
    "        x_2, y_2, vx_2, vy_2, angle_2, next_check_point_id_2 = [int(j) for j in input().split()]\n",
    "\n",
    "    print(\"8000 4500 100\")\n",
    "    print(\"8000 4500 100\")"
   ]
  }
 ],
 "metadata": {
  "kernelspec": {
   "display_name": "Python 3",
   "language": "python",
   "name": "python3"
  },
  "language_info": {
   "codemirror_mode": {
    "name": "ipython",
    "version": 3
   },
   "file_extension": ".py",
   "mimetype": "text/x-python",
   "name": "python",
   "nbconvert_exporter": "python",
   "pygments_lexer": "ipython3",
   "version": "3.7.7"
  }
 },
 "nbformat": 4,
 "nbformat_minor": 4
}
